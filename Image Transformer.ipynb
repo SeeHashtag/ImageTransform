{
 "cells": [
  {
   "cell_type": "markdown",
   "metadata": {},
   "source": [
    "### Import the required Python modules"
   ]
  },
  {
   "cell_type": "code",
   "execution_count": 153,
   "metadata": {},
   "outputs": [],
   "source": [
    "import cv2 #using OpenCV for image processing\n",
    "import easygui #allows users to select files\n",
    "import numpy as np #to store images as arrays of numbers\n",
    "import imageio #used to read the file which is chosen by file box\n",
    "import sys\n",
    "import os #to read the path and save images to that path\n",
    "import tkinter as tk #for the user interface\n",
    "from tkinter import filedialog\n",
    "from tkinter import messagebox\n",
    "from tkinter import *"
   ]
  },
  {
   "cell_type": "markdown",
   "metadata": {},
   "source": [
    "### Create a file selection box"
   ]
  },
  {
   "cell_type": "code",
   "execution_count": 154,
   "metadata": {},
   "outputs": [],
   "source": [
    "def upload():\n",
    "    ImagePath=easygui.fileopenbox() #let the user chose a file, and return the path of the chosen file as a string\n",
    "    cartoonify(ImagePath)"
   ]
  },
  {
   "cell_type": "markdown",
   "metadata": {},
   "source": [
    "### Read and store the image that was selected"
   ]
  },
  {
   "cell_type": "code",
   "execution_count": 155,
   "metadata": {},
   "outputs": [],
   "source": [
    "def cartoonify(ImagePath):\n",
    "    originalImage = cv2.imread(ImagePath) #read the image\n",
    "    originalImage = cv2.cvtColor(originalImage, cv2.COLOR_BGR2RGB)    \n",
    "        #convert the image from to BGR2RGB color space for\n",
    "        #use in the Pillow function\n",
    "\n",
    "    if originalImage is None: # confirm that image is chosen\n",
    "        print(\"Can not find any image. Choose appropriate file\")\n",
    "        sys.exit()\n",
    "\n",
    "    #converting the image to grayscale\n",
    "    grayScaleImage= cv2.cvtColor(originalImage, cv2.COLOR_BGR2GRAY) \n",
    "    \n",
    "    #applying median blur to smoothen the image\n",
    "    smoothGrayScale = cv2.medianBlur(grayScaleImage, 7) #adjust this number to increase or decrease blur\n",
    "\n",
    "    #retrieving the image edges\n",
    "    getEdge = cv2.adaptiveThreshold(smoothGrayScale, 255, \n",
    "        cv2.ADAPTIVE_THRESH_MEAN_C, \n",
    "        cv2.THRESH_BINARY, 21, 11) #adjust these numbers to change the appearance\n",
    "\n",
    "    #smoothing the image\n",
    "    colorImage = cv2.bilateralFilter(originalImage, 10, 25, 25)\n",
    "\n",
    "    #masking edged image with our \"BEAUTIFY\" image\n",
    "    cartoonImage = cv2.bitwise_and(colorImage, colorImage, mask=getEdge)\n",
    "\n",
    "    #the Grayscale button\n",
    "    GraySave=Button(top,text=\"Grayscale\",command=lambda: save(grayScaleImage, ImagePath),padx=30,pady=5)\n",
    "    GraySave.config(relief=FLAT, bg=\"black\", fg=\"white\", font = ('Consolas', 10, 'bold'))\n",
    "    GraySave.pack(side=LEFT)\n",
    "    \n",
    "    #the Edges button\n",
    "    EdgeSave=Button(top,text=\"Edges\",command=lambda: save(getEdge, ImagePath),padx=30,pady=5)\n",
    "    EdgeSave.config(relief=FLAT, bg=\"black\", fg=\"white\", font = ('Consolas', 10, 'bold'))\n",
    "    EdgeSave.pack(side=LEFT)\n",
    "    \n",
    "    #the Cartoon button\n",
    "    CartoonSave=Button(top,text=\"Cartoon\",command=lambda: save(cartoonImage, ImagePath),padx=30,pady=5)\n",
    "    CartoonSave.config(relief=FLAT, bg=\"black\", fg=\"white\", font = ('Consolas', 10, 'bold'))\n",
    "    CartoonSave.pack(side=LEFT)\n",
    "\n",
    "    #the Beauty button\n",
    "    CartoonSave=Button(top,text=\"Beauty\",command=lambda: save(colorImage, ImagePath),padx=30,pady=5)\n",
    "    CartoonSave.config(relief=FLAT, bg=\"black\", fg=\"white\", font = ('Consolas', 10, 'bold'))\n",
    "    CartoonSave.pack(side=LEFT)"
   ]
  },
  {
   "cell_type": "markdown",
   "metadata": {},
   "source": [
    "### Create a save buttton"
   ]
  },
  {
   "cell_type": "code",
   "execution_count": 156,
   "metadata": {},
   "outputs": [],
   "source": [
    "def save(cartoonImage, ImagePath):\n",
    "    #saving an image using imwrite()\n",
    "    newName=\"New_Image\"\n",
    "    path1 = os.path.dirname(ImagePath)\n",
    "    extension=os.path.splitext(ImagePath)[1]\n",
    "    path = os.path.join(path1, newName+extension)\n",
    "    cv2.imwrite(path, cv2.cvtColor(cartoonImage, cv2.COLOR_RGB2BGR))\n",
    "    I= \"Image saved by name \" + newName +\" at \"+ path\n",
    "    tk.messagebox.showinfo(title=None, message=I)"
   ]
  },
  {
   "cell_type": "markdown",
   "metadata": {},
   "source": [
    "### Making the User Interface"
   ]
  },
  {
   "cell_type": "code",
   "execution_count": 157,
   "metadata": {
    "scrolled": false
   },
   "outputs": [],
   "source": [
    "#the main window\n",
    "top=tk.Tk()\n",
    "top.geometry('575x50')\n",
    "top.title('Transform any image')\n",
    "top.configure(background='black')\n",
    "label=Label(top,background='#CDCDCD', font=('calibri',20,'bold'))\n",
    "\n",
    "#the Cartoonify button\n",
    "upload=Button(top,text=\"Select an image\",command=upload,padx=10,pady=5)\n",
    "#upload.configure(background='black', foreground='white',font=('calibri',10,'bold'))\n",
    "upload.config(relief=FLAT, bg=\"black\", fg=\"white\", font = ('Consolas', 10, 'bold'))\n",
    "upload.pack(side=LEFT)\n",
    "\n",
    "top.mainloop()"
   ]
  }
 ],
 "metadata": {
  "kernelspec": {
   "display_name": "Python 3",
   "language": "python",
   "name": "python3"
  },
  "language_info": {
   "codemirror_mode": {
    "name": "ipython",
    "version": 3
   },
   "file_extension": ".py",
   "mimetype": "text/x-python",
   "name": "python",
   "nbconvert_exporter": "python",
   "pygments_lexer": "ipython3",
   "version": "3.7.9"
  }
 },
 "nbformat": 4,
 "nbformat_minor": 4
}
